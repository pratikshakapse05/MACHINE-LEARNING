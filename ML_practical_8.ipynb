{
 "cells": [
  {
   "cell_type": "code",
   "execution_count": 4,
   "id": "0fa1610e",
   "metadata": {},
   "outputs": [],
   "source": [
    "import pandas as pd\n",
    "import numpy as np\n",
    "from math import log2 \n",
    "import pprint"
   ]
  },
  {
   "cell_type": "code",
   "execution_count": 5,
   "id": "2753f092",
   "metadata": {},
   "outputs": [],
   "source": [
    "data = pd.DataFrame([\n",
    "['Sunny', 'Hot', 'High', 'Weak', 'No'], ['Sunny', 'Hot', 'High', 'Strong', 'No'], ['Overcast', 'Hot', 'High', 'Weak', 'Yes'], ['Rain', 'Mild', 'High', 'Weak', 'Yes'], ['Rain', 'Cool', 'Normal', 'Weak', 'Yes'], ['Rain', 'Cool', 'Normal', 'Strong', 'No'], ['Overcast', 'Cool', 'Normal', 'Strong', 'Yes'], ['Sunny', 'Mild', 'High', 'Weak', 'No' ], ['Sunny', 'Cool', 'Normal', 'Weak', 'Yes'], ['Rain', 'Mild', 'Normal', 'Weak', 'Yes'], ['Sunny', 'Mild', 'Normal', 'Strong', 'Yes'], ['Overcast', 'Mild', 'High', 'Strong', 'Yes'], ['Overcast', 'Hot', 'Normal', 'Weak', 'Yes'], ['Rain', 'Mild', 'High', 'Strong', 'No']\n",
    "], columns=['Outlook', 'Temperature', 'Humidity', 'Wind', 'PlayTennis'])\n"
   ]
  },
  {
   "cell_type": "code",
   "execution_count": 6,
   "id": "58e973c9",
   "metadata": {},
   "outputs": [],
   "source": [
    "def entropy(target_col):\n",
    "    values, counts = np.unique(target_col, return_counts=True) \n",
    "    entropy = sum([-p * log2(p) for p in counts/ counts.sum()]) \n",
    "    return entropy"
   ]
  },
  {
   "cell_type": "code",
   "execution_count": 7,
   "id": "22c901f9",
   "metadata": {},
   "outputs": [],
   "source": [
    "def info_gain(data, split_attribute_name, target_name=\"PlayTennis\"): \n",
    "    total_entropy = entropy(data[target_name])\n",
    "    vals, counts = np.unique(data[split_attribute_name], return_counts=True)"
   ]
  },
  {
   "cell_type": "code",
   "execution_count": 8,
   "id": "9d960fd6",
   "metadata": {},
   "outputs": [],
   "source": [
    "def info_gain(data, split_attribute_name, target_name=\"PlayTennis\"): \n",
    "    total_entropy = entropy(data[target_name])\n",
    "    vals, counts = np.unique (data[split_attribute_name], return_counts=True)\n",
    "    weighted_entropy = sum([\n",
    "        (counts[i]/sum(counts)) *\n",
    "        entropy(data[data[split_attribute_name] == vals[i]][target_name])\n",
    "        for i in range(len(vals))\n",
    "    ])\n",
    "    information_gain = total_entropy - weighted_entropy\n",
    "    return information_gain"
   ]
  },
  {
   "cell_type": "code",
   "execution_count": 9,
   "id": "73acf216",
   "metadata": {},
   "outputs": [],
   "source": [
    "def ID3(data, original_data, features, target_attribute_name=\"PlayTennis\", parent_node_class=None):\n",
    "    if len(np.unique(data[target_attribute_name])) <= 1:\n",
    "        return np.unique(data[target_attribute_name])[0]\n",
    "    elif len(data) == 0:\n",
    "        return np.unique (original_data[target_attribute_name])[\n",
    "            np.argmax(np.unique(original_data[target_attribute_name], return_counts=True)[1])\n",
    "        ]\n",
    "    elif len(features) == 0:\n",
    "        return parent_node_class\n",
    "    else:\n",
    "        parent_node_class = np.unique(data[target_attribute_name])[\n",
    "            np.argmax(np.unique (data[target_attribute_name], return_counts=True)[1])\n",
    "        ]\n",
    "    item_values = [info_gain(data, feature, target_attribute_name) for feature in features] \n",
    "    best_feature_index = np.argmax(item_values) \n",
    "    best_feature = features[best_feature_index]\n",
    "    tree = {best_feature: {}}\n",
    "    \n",
    "    for value in np.unique(data[best_feature]):\n",
    "        sub_data = data[data[best_feature] == value]\n",
    "        new_features = features[:best_feature_index] + features [best_feature_index + 1:]\n",
    "        subtree= ID3(sub_data, original_data, new_features, target_attribute_name, parent_node_class)\n",
    "        tree[best_feature][value] = subtree\n",
    "    return tree"
   ]
  },
  {
   "cell_type": "code",
   "execution_count": 10,
   "id": "d64f952c",
   "metadata": {},
   "outputs": [],
   "source": [
    "features = list(data.columns)\n",
    "features.remove(\"PlayTennis\")\n",
    "tree = ID3(data, data, features)"
   ]
  },
  {
   "cell_type": "code",
   "execution_count": 11,
   "id": "6c960204",
   "metadata": {},
   "outputs": [
    {
     "name": "stdout",
     "output_type": "stream",
     "text": [
      "{'Outlook': {'Overcast': 'Yes',\n",
      "             'Rain': {'Wind': {'Strong': 'No', 'Weak': 'Yes'}},\n",
      "             'Sunny': {'Humidity': {'High': 'No', 'Normal': 'Yes'}}}}\n"
     ]
    }
   ],
   "source": [
    "import pprint\n",
    "pprint.pprint(tree)"
   ]
  },
  {
   "cell_type": "code",
   "execution_count": 12,
   "id": "083c5e3b",
   "metadata": {},
   "outputs": [],
   "source": [
    "def predict(query, tree, default='Yes'):\n",
    "    for attr in query:\n",
    "        if attr in tree:\n",
    "            try:\n",
    "                result = tree[attr][query[attr]]\n",
    "            except:\n",
    "                return default\n",
    "            if isinstance(result, dict):\n",
    "                return predict(query, result)\n",
    "            else:\n",
    "                return result\n",
    "    return default"
   ]
  },
  {
   "cell_type": "code",
   "execution_count": 13,
   "id": "b716379f",
   "metadata": {},
   "outputs": [
    {
     "name": "stdout",
     "output_type": "stream",
     "text": [
      "\n",
      "Predicted Output for sample is:  No\n"
     ]
    }
   ],
   "source": [
    "sample = {'Outlook': 'Sunny', 'Temperature': 'Cool', 'Humidity': 'High', 'Wind': 'Strong'} \n",
    "prediction = predict(sample, tree)\n",
    "print(\"\\nPredicted Output for sample is: \", prediction)"
   ]
  }
 ],
 "metadata": {
  "kernelspec": {
   "display_name": "Python 3 (ipykernel)",
   "language": "python",
   "name": "python3"
  },
  "language_info": {
   "codemirror_mode": {
    "name": "ipython",
    "version": 3
   },
   "file_extension": ".py",
   "mimetype": "text/x-python",
   "name": "python",
   "nbconvert_exporter": "python",
   "pygments_lexer": "ipython3",
   "version": "3.11.4"
  }
 },
 "nbformat": 4,
 "nbformat_minor": 5
}
