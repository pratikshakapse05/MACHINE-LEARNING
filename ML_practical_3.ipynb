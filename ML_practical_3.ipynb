{
 "cells": [
  {
   "cell_type": "code",
   "execution_count": 1,
   "id": "b1c10c5e",
   "metadata": {},
   "outputs": [
    {
     "name": "stdout",
     "output_type": "stream",
     "text": [
      "   Unnamed: 0  YearsExperience  Salary\n",
      "0           0              1.2   39344\n",
      "1           1              1.4   46206\n",
      "2           2              1.6   37732\n",
      "3           3              2.1   43526\n",
      "4           4              2.3   39892\n"
     ]
    }
   ],
   "source": [
    "import pandas as pd\n",
    "file_path = \"Salary_dataset.csv\"\n",
    "df = pd.read_csv(\"Salary_dataset.csv\")\n",
    "print(df.head())"
   ]
  },
  {
   "cell_type": "code",
   "execution_count": 2,
   "id": "00fcffce",
   "metadata": {},
   "outputs": [
    {
     "name": "stdout",
     "output_type": "stream",
     "text": [
      "<class 'pandas.core.frame.DataFrame'>\n",
      "RangeIndex: 30 entries, 0 to 29\n",
      "Data columns (total 3 columns):\n",
      " #   Column           Non-Null Count  Dtype  \n",
      "---  ------           --------------  -----  \n",
      " 0   Unnamed: 0       30 non-null     int64  \n",
      " 1   YearsExperience  30 non-null     float64\n",
      " 2   Salary           30 non-null     int64  \n",
      "dtypes: float64(1), int64(2)\n",
      "memory usage: 852.0 bytes\n",
      "None\n",
      "       Unnamed: 0  YearsExperience         Salary\n",
      "count   30.000000        30.000000      30.000000\n",
      "mean    14.500000         5.413333   76004.000000\n",
      "std      8.803408         2.837888   27414.429785\n",
      "min      0.000000         1.200000   37732.000000\n",
      "25%      7.250000         3.300000   56721.750000\n",
      "50%     14.500000         4.800000   65238.000000\n",
      "75%     21.750000         7.800000  100545.750000\n",
      "max     29.000000        10.600000  122392.000000\n"
     ]
    }
   ],
   "source": [
    "print(df.info())\n",
    "print(df.describe())"
   ]
  },
  {
   "cell_type": "code",
   "execution_count": 3,
   "id": "eab18552",
   "metadata": {},
   "outputs": [],
   "source": [
    "import numpy as np\n",
    "from sklearn.model_selection import train_test_split\n",
    "\n",
    "x=df[['YearsExperience']].values\n",
    "y=df['Salary'].values\n",
    "x_train, x_test, y_train, y_test=train_test_split(x, y, test_size=0.2, random_state=42)"
   ]
  },
  {
   "cell_type": "code",
   "execution_count": 4,
   "id": "e7efc704",
   "metadata": {},
   "outputs": [
    {
     "name": "stdout",
     "output_type": "stream",
     "text": [
      "Intercept: 24380.201479473704\n",
      "Coefficient: 9423.815323030976\n"
     ]
    }
   ],
   "source": [
    "from sklearn.linear_model import LinearRegression\n",
    "model=LinearRegression()\n",
    "\n",
    "model.fit(x_train, y_train)\n",
    "print(f\"Intercept: {model.intercept_}\")\n",
    "print(f\"Coefficient: {model.coef_[0]}\")"
   ]
  },
  {
   "cell_type": "code",
   "execution_count": 5,
   "id": "150b55af",
   "metadata": {},
   "outputs": [
    {
     "name": "stdout",
     "output_type": "stream",
     "text": [
      "   Actual      Predicted\n",
      "0  112636  115791.210113\n",
      "1   67939   71499.278095\n",
      "2  113813  102597.868661\n",
      "3   83089   75268.804224\n",
      "4   64446   55478.792045\n"
     ]
    }
   ],
   "source": [
    "y_pred=model.predict(x_test)\n",
    "comparison=pd.DataFrame({'Actual': y_test, 'Predicted': y_pred})\n",
    "print(comparison.head())"
   ]
  },
  {
   "cell_type": "code",
   "execution_count": 6,
   "id": "f62ca5f6",
   "metadata": {},
   "outputs": [
    {
     "name": "stdout",
     "output_type": "stream",
     "text": [
      "Mean Squared Error: 49830096.855908334\n"
     ]
    }
   ],
   "source": [
    "from sklearn.metrics import mean_squared_error\n",
    "mse=mean_squared_error(y_test, y_pred)\n",
    "print(f\"Mean Squared Error: {mse}\")"
   ]
  }
 ],
 "metadata": {
  "kernelspec": {
   "display_name": "Python 3 (ipykernel)",
   "language": "python",
   "name": "python3"
  },
  "language_info": {
   "codemirror_mode": {
    "name": "ipython",
    "version": 3
   },
   "file_extension": ".py",
   "mimetype": "text/x-python",
   "name": "python",
   "nbconvert_exporter": "python",
   "pygments_lexer": "ipython3",
   "version": "3.11.4"
  }
 },
 "nbformat": 4,
 "nbformat_minor": 5
}
