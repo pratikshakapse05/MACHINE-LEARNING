{
 "cells": [
  {
   "cell_type": "code",
   "execution_count": 1,
   "id": "0e8a7db2-b6af-4962-88c1-d6bb7556478d",
   "metadata": {},
   "outputs": [],
   "source": [
    "import numpy as np"
   ]
  },
  {
   "cell_type": "code",
   "execution_count": 8,
   "id": "4516c290-84a3-45ae-8ecd-5c651a692e1f",
   "metadata": {},
   "outputs": [],
   "source": [
    "def sigmoid(x):\n",
    "    return 1 / (1 + np.exp(-x))\n",
    "def sigmoid_derivative(x):\n",
    "    return x * (1 - x)\n",
    "def binary_cross_entropy(y_true, y_pred):\n",
    "    return -np.mean(y_true * np.log(y_pred + 1e-7) + (1 - y_true) * np.log(1 - y_pred + 1e-7))"
   ]
  },
  {
   "cell_type": "code",
   "execution_count": 12,
   "id": "57041851-534c-45f3-a79f-bbd95b4d6b26",
   "metadata": {},
   "outputs": [],
   "source": [
    "def train_neural_network(X, y, epochs=10000, lr=0.1):\n",
    "    input_dim= X.shape[1]\n",
    "    weights = np.random.uniform(size=(input_dim, 1)) \n",
    "    bias = np.random.uniform(size=(1,))\n",
    "    for epoch in range(epochs):\n",
    "        linear_output = np.dot(X, weights) + bias\n",
    "        predictions = sigmoid(linear_output)\n",
    "        loss = binary_cross_entropy(y, predictions)\n",
    "        error = predictions - y\n",
    "        d_pred = error*sigmoid_derivative(predictions)\n",
    "        weights = lr*np.dot(X.T, d_pred)\n",
    "        bias -= lr*np.sum(d_pred)\n",
    "        if epoch % 1000 == 0:\n",
    "            print(f\"Epoch {epoch}, Loss: {loss:.4f}\")\n",
    "    return weights, bias"
   ]
  },
  {
   "cell_type": "code",
   "execution_count": 14,
   "id": "1c409a99-7bf0-40c4-be29-29814c7cb634",
   "metadata": {},
   "outputs": [],
   "source": [
    "def predict(X, weights, bias):\n",
    "    return sigmoid(np.dot (X, weights) + bias) >= 0.5"
   ]
  },
  {
   "cell_type": "code",
   "execution_count": 15,
   "id": "5f75d6ec-c802-4550-b918-a6b8c0b37b1d",
   "metadata": {},
   "outputs": [
    {
     "name": "stdout",
     "output_type": "stream",
     "text": [
      "\n",
      "Training for AND gate:\n",
      "Epoch 0, Loss: 1.0218\n",
      "Epoch 1000, Loss: 0.5647\n",
      "Epoch 2000, Loss: 0.5647\n",
      "Epoch 3000, Loss: 0.5647\n",
      "Epoch 4000, Loss: 0.5647\n",
      "Epoch 5000, Loss: 0.5647\n",
      "Epoch 6000, Loss: 0.5647\n",
      "Epoch 7000, Loss: 0.5647\n",
      "Epoch 8000, Loss: 0.5647\n",
      "Epoch 9000, Loss: 0.5647\n",
      "Predictions for AND gate:\n",
      "[0 0 0 0]\n",
      "\n",
      "Training for OR gate:\n",
      "Epoch 0, Loss: 0.5186\n",
      "Epoch 1000, Loss: 0.5647\n",
      "Epoch 2000, Loss: 0.5647\n",
      "Epoch 3000, Loss: 0.5647\n",
      "Epoch 4000, Loss: 0.5647\n",
      "Epoch 5000, Loss: 0.5647\n",
      "Epoch 6000, Loss: 0.5647\n",
      "Epoch 7000, Loss: 0.5647\n",
      "Epoch 8000, Loss: 0.5647\n",
      "Epoch 9000, Loss: 0.5647\n",
      "Predictions for OR gate:\n",
      "[1 1 1 1]\n",
      "\n",
      "Training for NAND gate:\n",
      "Epoch 0, Loss: 0.7816\n",
      "Epoch 1000, Loss: 0.5647\n",
      "Epoch 2000, Loss: 0.5647\n",
      "Epoch 3000, Loss: 0.5647\n",
      "Epoch 4000, Loss: 0.5647\n",
      "Epoch 5000, Loss: 0.5647\n",
      "Epoch 6000, Loss: 0.5647\n",
      "Epoch 7000, Loss: 0.5647\n",
      "Epoch 8000, Loss: 0.5647\n",
      "Epoch 9000, Loss: 0.5647\n",
      "Predictions for NAND gate:\n",
      "[1 1 1 1]\n",
      "\n",
      "Training for NOR gate:\n",
      "Epoch 0, Loss: 0.9834\n",
      "Epoch 1000, Loss: 0.5647\n",
      "Epoch 2000, Loss: 0.5647\n",
      "Epoch 3000, Loss: 0.5647\n",
      "Epoch 4000, Loss: 0.5647\n",
      "Epoch 5000, Loss: 0.5647\n",
      "Epoch 6000, Loss: 0.5647\n",
      "Epoch 7000, Loss: 0.5647\n",
      "Epoch 8000, Loss: 0.5647\n",
      "Epoch 9000, Loss: 0.5647\n",
      "Predictions for NOR gate:\n",
      "[0 0 0 0]\n",
      "\n",
      "Training for XOR gate:\n",
      "Epoch 0, Loss: 1.0111\n",
      "Epoch 1000, Loss: 0.6931\n",
      "Epoch 2000, Loss: 0.6931\n",
      "Epoch 3000, Loss: 0.6931\n",
      "Epoch 4000, Loss: 0.6931\n",
      "Epoch 5000, Loss: 0.6931\n",
      "Epoch 6000, Loss: 0.6931\n",
      "Epoch 7000, Loss: 0.6931\n",
      "Epoch 8000, Loss: 0.6931\n",
      "Epoch 9000, Loss: 0.6931\n",
      "Predictions for XOR gate:\n",
      "[1 1 1 1]\n"
     ]
    }
   ],
   "source": [
    "X = np.array([[0,0], [0,1], [1,0], [1,1]])\n",
    "logic_gates = {\n",
    "    \"AND\": np.array([[0], [0], [0], [1]]), \n",
    "    \"OR\": np.array([[0], [1], [1], [1]]), \n",
    "    \"NAND\": np.array([[1], [1], [1], [0]]), \n",
    "    \"NOR\": np.array([[1], [0], [0], [0]]), \n",
    "    \"XOR\": np.array([[0], [1], [1], [0]])\n",
    "}\n",
    "for gate_name, y in logic_gates.items():\n",
    "    print(f\"\\nTraining for {gate_name} gate:\")\n",
    "    weights, bias = train_neural_network(X, y, epochs=10000, lr=0.1) \n",
    "    predictions = predict (X, weights, bias).astype(int)\n",
    "    print(f\"Predictions for {gate_name} gate:\\n{predictions.reshape(-1)}\")"
   ]
  }
 ],
 "metadata": {
  "kernelspec": {
   "display_name": "Python 3 (ipykernel)",
   "language": "python",
   "name": "python3"
  },
  "language_info": {
   "codemirror_mode": {
    "name": "ipython",
    "version": 3
   },
   "file_extension": ".py",
   "mimetype": "text/x-python",
   "name": "python",
   "nbconvert_exporter": "python",
   "pygments_lexer": "ipython3",
   "version": "3.11.4"
  }
 },
 "nbformat": 4,
 "nbformat_minor": 5
}
