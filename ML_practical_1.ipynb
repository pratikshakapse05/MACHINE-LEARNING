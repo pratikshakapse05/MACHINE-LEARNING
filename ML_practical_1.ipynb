{
 "cells": [
  {
   "cell_type": "code",
   "execution_count": 1,
   "id": "ff637708",
   "metadata": {},
   "outputs": [],
   "source": [
    "def calculate_mean(numbers): \n",
    "    return sum(numbers) / len(numbers)"
   ]
  },
  {
   "cell_type": "code",
   "execution_count": 2,
   "id": "29e95c37",
   "metadata": {},
   "outputs": [],
   "source": [
    "def calculate_median(numbers): \n",
    "    numbers.sort() \n",
    "    n = len(numbers) \n",
    "    middle = n // 2 \n",
    "    return (numbers[middle - 1] + numbers[middle]) / 2 if n % 2 == 0 else numbers[middle]"
   ]
  },
  {
   "cell_type": "code",
   "execution_count": 3,
   "id": "59ef72c6",
   "metadata": {},
   "outputs": [],
   "source": [
    "def calculate_standard_deviation(numbers): \n",
    "    mean = calculate_mean(numbers) \n",
    "    variance = sum((x - mean) ** 2 for x in numbers) / len(numbers) \n",
    "    return variance ** 0.5 "
   ]
  },
  {
   "cell_type": "code",
   "execution_count": 4,
   "id": "b8caeeb6",
   "metadata": {},
   "outputs": [],
   "source": [
    "def calculate_mode(numbers): \n",
    "    from collections import Counter \n",
    "    frequency = Counter(numbers) \n",
    "    max_count = max(frequency.values()) \n",
    "    return [key for key, value in frequency.items() if value == max_count]"
   ]
  },
  {
   "cell_type": "code",
   "execution_count": 5,
   "id": "5f37ef0e",
   "metadata": {},
   "outputs": [
    {
     "name": "stdout",
     "output_type": "stream",
     "text": [
      "Enter numbers separated by spaces: 1 2 5 6 5\n",
      "Mean: 3.8\n",
      "Median: 5\n",
      "Standard Deviation: 1.9390719429665317\n",
      "Mode: [5]\n"
     ]
    }
   ],
   "source": [
    "# Input and Execution \n",
    "numbers = list(map(int, input(\"Enter numbers separated by spaces: \").split())) \n",
    " \n",
    "print(f\"Mean: {calculate_mean(numbers)}\") \n",
    "print(f\"Median: {calculate_median(numbers)}\") \n",
    "print(f\"Standard Deviation: {calculate_standard_deviation(numbers)}\") \n",
    "print(f\"Mode: {calculate_mode(numbers)}\")"
   ]
  },
  {
   "cell_type": "code",
   "execution_count": null,
   "id": "4a671ac5",
   "metadata": {},
   "outputs": [],
   "source": []
  }
 ],
 "metadata": {
  "kernelspec": {
   "display_name": "Python 3 (ipykernel)",
   "language": "python",
   "name": "python3"
  },
  "language_info": {
   "codemirror_mode": {
    "name": "ipython",
    "version": 3
   },
   "file_extension": ".py",
   "mimetype": "text/x-python",
   "name": "python",
   "nbconvert_exporter": "python",
   "pygments_lexer": "ipython3",
   "version": "3.11.4"
  }
 },
 "nbformat": 4,
 "nbformat_minor": 5
}
